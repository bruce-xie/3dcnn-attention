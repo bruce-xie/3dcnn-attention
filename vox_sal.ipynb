{
 "cells": [
  {
   "cell_type": "code",
   "execution_count": 21,
   "metadata": {
    "collapsed": false
   },
   "outputs": [],
   "source": [
    "import numpy as np\n",
    "from mpl_toolkits.mplot3d import Axes3D\n",
    "import matplotlib.pyplot as plt\n",
    "# % matplotlib qt\n",
    "\n",
    "points = np.array([[-1, -1, -1],\n",
    "                      [1, -1, -1 ],\n",
    "                      [1, 1, -1],\n",
    "                      [-1, 1, -1],\n",
    "                      [-1, -1, 1],\n",
    "                      [1, -1, 1 ],\n",
    "                      [1, 1, 1],\n",
    "                      [-1, 1, 1]])\n",
    "\n",
    "fig = plt.figure()\n",
    "ax = fig.add_subplot(111, projection='3d')\n",
    "r = [-1,3]\n",
    "X, Y = np.meshgrid(r, r)\n",
    "ax.plot_surface([[0,  1],[0,  1]],[[0, 0],[ 3,  3]],1, alpha=0.5)\n",
    "# ax.plot_surface(X,Y,1, alpha=0.5)\n",
    "# ax.plot_surface(X,Y,-1, alpha=0.5)\n",
    "# ax.plot_surface(X,-1,Y, alpha=0.5)\n",
    "# ax.plot_surface(X,1,Y, alpha=0.5)\n",
    "# ax.plot_surface(1,X,Y, alpha=0.5)\n",
    "# ax.plot_surface(-1,X,Y, alpha=0.5)\n",
    "\n",
    "# ax.scatter3D(points[:, 0], points[:, 1], points[:, 2])\n",
    "ax.set_xlabel('X')\n",
    "ax.set_ylabel('Y')\n",
    "ax.set_zlabel('Z')\n",
    "plt.show()"
   ]
  },
  {
   "cell_type": "code",
   "execution_count": 15,
   "metadata": {
    "collapsed": false
   },
   "outputs": [
    {
     "data": {
      "text/plain": [
       "(array([[-1,  3],\n",
       "        [-1,  3]]), array([[-1, -1],\n",
       "        [ 3,  3]]))"
      ]
     },
     "execution_count": 15,
     "metadata": {},
     "output_type": "execute_result"
    }
   ],
   "source": [
    "X,Y"
   ]
  },
  {
   "cell_type": "code",
   "execution_count": 35,
   "metadata": {
    "collapsed": true
   },
   "outputs": [],
   "source": [
    "def plot_cube(ax,x,y,z,a):\n",
    "    \"x y z location and alpha\"\n",
    "    \n",
    "    ax.plot_surface([[x,x+1],[x,x+1]],[[y,y],[y+1,y+1]],z, alpha=a)\n",
    "    ax.plot_surface([[x,x+1],[x,x+1]],[[y,y],[y+1,y+1]],z+1, alpha=a)\n",
    "\n",
    "    ax.plot_surface(x,[[y,y],[y+1,y+1]],[[z,z+1],[z,z+1]], alpha=a)\n",
    "    ax.plot_surface(x+1,[[y,y],[y+1,y+1]],[[z,z+1],[z,z+1]], alpha=a)\n",
    "\n",
    "    ax.plot_surface([[x,x],[x+1,x+1]],y,[[z,z+1],[z,z+1]], alpha=a)\n",
    "    ax.plot_surface([[x,x],[x+1,x+1]],y+1,[[z,z+1],[z,z+1]], alpha=a)\n",
    "    "
   ]
  },
  {
   "cell_type": "code",
   "execution_count": 36,
   "metadata": {
    "collapsed": false
   },
   "outputs": [],
   "source": [
    "fig = plt.figure()\n",
    "ax = fig.add_subplot(111, projection='3d')\n",
    "plot_cube(ax,0,0,0,0.5)\n",
    "ax.set_xlabel('X')\n",
    "ax.set_ylabel('Y')\n",
    "ax.set_zlabel('Z')\n",
    "plt.show()"
   ]
  },
  {
   "cell_type": "code",
   "execution_count": 42,
   "metadata": {
    "collapsed": false
   },
   "outputs": [],
   "source": [
    "from scipy.io import loadmat\n",
    "V = loadmat('morecuptrain_00000000_1.mat')['instance']\n",
    "fig = plt.figure()\n",
    "ax = fig.add_subplot(111, projection='3d')\n",
    "for i in range(V.shape[0]):\n",
    "    for j in range(V.shape[1]):\n",
    "        for k in range(V.shape[2]):\n",
    "            if V[i,j,k]==1:\n",
    "                plot_cube(ax,i,j,k,0.1)\n",
    "plt.show()"
   ]
  }
 ],
 "metadata": {
  "kernelspec": {
   "display_name": "Python [Root]",
   "language": "python",
   "name": "Python [Root]"
  },
  "language_info": {
   "codemirror_mode": {
    "name": "ipython",
    "version": 2
   },
   "file_extension": ".py",
   "mimetype": "text/x-python",
   "name": "python",
   "nbconvert_exporter": "python",
   "pygments_lexer": "ipython2",
   "version": "2.7.12"
  }
 },
 "nbformat": 4,
 "nbformat_minor": 0
}
