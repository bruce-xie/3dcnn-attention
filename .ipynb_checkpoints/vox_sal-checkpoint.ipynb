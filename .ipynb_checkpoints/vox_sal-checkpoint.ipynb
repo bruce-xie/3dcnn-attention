{
 "cells": [
  {
   "cell_type": "code",
   "execution_count": 14,
   "metadata": {
    "collapsed": false
   },
   "outputs": [],
   "source": [
    "import numpy as np\n",
    "from mpl_toolkits.mplot3d import Axes3D\n",
    "import matplotlib.pyplot as plt\n",
    "# % matplotlib qt\n",
    "\n",
    "points = np.array([[-1, -1, -1],\n",
    "                      [1, -1, -1 ],\n",
    "                      [1, 1, -1],\n",
    "                      [-1, 1, -1],\n",
    "                      [-1, -1, 1],\n",
    "                      [1, -1, 1 ],\n",
    "                      [1, 1, 1],\n",
    "                      [-1, 1, 1]])\n",
    "\n",
    "fig = plt.figure()\n",
    "ax = fig.add_subplot(111, projection='3d')\n",
    "r = [-1,3]\n",
    "X, Y = np.meshgrid(r, r)\n",
    "ax.plot_surface([[-1,  3],[-1,  3]],[[-1, -1],[ 3,  3]],1, alpha=0.5)\n",
    "# ax.plot_surface(X,Y,1, alpha=0.5)\n",
    "# ax.plot_surface(X,Y,-1, alpha=0.5)\n",
    "# ax.plot_surface(X,-1,Y, alpha=0.5)\n",
    "# ax.plot_surface(X,1,Y, alpha=0.5)\n",
    "# ax.plot_surface(1,X,Y, alpha=0.5)\n",
    "# ax.plot_surface(-1,X,Y, alpha=0.5)\n",
    "\n",
    "# ax.scatter3D(points[:, 0], points[:, 1], points[:, 2])\n",
    "ax.set_xlabel('X')\n",
    "ax.set_ylabel('Y')\n",
    "ax.set_zlabel('Z')\n",
    "plt.show()"
   ]
  },
  {
   "cell_type": "code",
   "execution_count": 15,
   "metadata": {
    "collapsed": false
   },
   "outputs": [
    {
     "data": {
      "text/plain": [
       "(array([[-1,  3],\n",
       "        [-1,  3]]), array([[-1, -1],\n",
       "        [ 3,  3]]))"
      ]
     },
     "execution_count": 15,
     "metadata": {},
     "output_type": "execute_result"
    }
   ],
   "source": [
    "X,Y"
   ]
  },
  {
   "cell_type": "code",
   "execution_count": 4,
   "metadata": {
    "collapsed": true
   },
   "outputs": [],
   "source": [
    "def plot_cube(i,j,k,a):\n",
    "    \"x y z location and alpha\"\n",
    "    X, Y = np.meshgrid(r, r)\n",
    "    ax.plot_surface(X,Y,1, alpha=a)\n",
    "    ax.plot_surface(X,Y,-1, alpha=a)\n",
    "    ax.plot_surface(X,-1,Y, alpha=a)\n",
    "    ax.plot_surface(X,1,Y, alpha=a)\n",
    "    ax.plot_surface(1,X,Y, alpha=a)\n",
    "    ax.plot_surface(-1,X,Y, alpha=a)"
   ]
  },
  {
   "cell_type": "code",
   "execution_count": 24,
   "metadata": {
    "collapsed": false
   },
   "outputs": [
    {
     "ename": "NameError",
     "evalue": "name 'plot_cube' is not defined",
     "output_type": "error",
     "traceback": [
      "\u001b[1;31m---------------------------------------------------------------------------\u001b[0m",
      "\u001b[1;31mNameError\u001b[0m                                 Traceback (most recent call last)",
      "\u001b[1;32m<ipython-input-24-0a6fb9593d31>\u001b[0m in \u001b[0;36m<module>\u001b[1;34m()\u001b[0m\n\u001b[0;32m      6\u001b[0m         \u001b[1;32mfor\u001b[0m \u001b[0mk\u001b[0m \u001b[1;32min\u001b[0m \u001b[0mrange\u001b[0m\u001b[1;33m(\u001b[0m\u001b[0mV\u001b[0m\u001b[1;33m.\u001b[0m\u001b[0mshape\u001b[0m\u001b[1;33m[\u001b[0m\u001b[1;36m2\u001b[0m\u001b[1;33m]\u001b[0m\u001b[1;33m)\u001b[0m\u001b[1;33m:\u001b[0m\u001b[1;33m\u001b[0m\u001b[0m\n\u001b[0;32m      7\u001b[0m             \u001b[1;32mif\u001b[0m \u001b[0mV\u001b[0m\u001b[1;33m[\u001b[0m\u001b[0mi\u001b[0m\u001b[1;33m,\u001b[0m\u001b[0mj\u001b[0m\u001b[1;33m,\u001b[0m\u001b[0mk\u001b[0m\u001b[1;33m]\u001b[0m\u001b[1;33m==\u001b[0m\u001b[1;36m1\u001b[0m\u001b[1;33m:\u001b[0m\u001b[1;33m\u001b[0m\u001b[0m\n\u001b[1;32m----> 8\u001b[1;33m                 \u001b[0mplot_cube\u001b[0m\u001b[1;33m(\u001b[0m\u001b[1;33m)\u001b[0m\u001b[1;33m\u001b[0m\u001b[0m\n\u001b[0m\u001b[0;32m      9\u001b[0m \u001b[0mplt\u001b[0m\u001b[1;33m.\u001b[0m\u001b[0mshow\u001b[0m\u001b[1;33m(\u001b[0m\u001b[1;33m)\u001b[0m\u001b[1;33m\u001b[0m\u001b[0m\n",
      "\u001b[1;31mNameError\u001b[0m: name 'plot_cube' is not defined"
     ]
    }
   ],
   "source": [
    "from scipy.io import loadmat\n",
    "V = loadmat('bathtub_0001_1.mat')['instance']\n",
    "V.shape\n",
    "for i in range(V.shape[0]):\n",
    "    for j in range(V.shape[1]):\n",
    "        for k in range(V.shape[2]):\n",
    "            if V[i,j,k]==1:\n",
    "                plot_cube(i,j,k)\n",
    "plt.show()"
   ]
  }
 ],
 "metadata": {
  "kernelspec": {
   "display_name": "Python [Root]",
   "language": "python",
   "name": "Python [Root]"
  },
  "language_info": {
   "codemirror_mode": {
    "name": "ipython",
    "version": 2
   },
   "file_extension": ".py",
   "mimetype": "text/x-python",
   "name": "python",
   "nbconvert_exporter": "python",
   "pygments_lexer": "ipython2",
   "version": "2.7.12"
  }
 },
 "nbformat": 4,
 "nbformat_minor": 0
}
